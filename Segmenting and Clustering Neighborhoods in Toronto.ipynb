{
    "nbformat_minor": 1, 
    "cells": [
        {
            "source": "from bs4 import BeautifulSoup\nimport requests", 
            "cell_type": "code", 
            "metadata": {}, 
            "outputs": [], 
            "execution_count": 1
        }, 
        {
            "source": "# Extract the content of the HTML page and create soup object for scrapping", 
            "cell_type": "markdown", 
            "metadata": {}
        }, 
        {
            "source": "text = requests.get(\"https://en.wikipedia.org/wiki/List_of_postal_codes_of_Canada:_M\").text\nsoup = BeautifulSoup(text, \"lxml\")", 
            "cell_type": "code", 
            "metadata": {}, 
            "outputs": [], 
            "execution_count": 2
        }, 
        {
            "source": "# Create object table from HTML tag \"table\" with class attribute \"wikitable sortable\"", 
            "cell_type": "markdown", 
            "metadata": {}
        }, 
        {
            "source": "table = soup.find('table',{'class':'wikitable sortable'})\n", 
            "cell_type": "code", 
            "metadata": {}, 
            "outputs": [], 
            "execution_count": 3
        }, 
        {
            "source": "# Extract all the table rows from the HTML table and remove the first element because is empty", 
            "cell_type": "markdown", 
            "metadata": {}
        }, 
        {
            "source": "rows = table.find_all('tr')\nrows.pop(0)", 
            "cell_type": "code", 
            "metadata": {}, 
            "outputs": [
                {
                    "output_type": "execute_result", 
                    "data": {
                        "text/plain": "<tr>\n<th>Postcode</th>\n<th>Borough</th>\n<th>Neighbourhood\n</th></tr>"
                    }, 
                    "execution_count": 11, 
                    "metadata": {}
                }
            ], 
            "execution_count": 11
        }, 
        {
            "source": "import pandas as pd\nl = []\ni=0\n    \nfor tr in rows:\n    td = tr.find_all('td')\n    \n    if td[1].text != 'Not assigned':\n        \n        if td[2].text == 'Not assigned\\n':\n            td[2] = td[1]\n            \n        row = [tr.text for tr in td]\n        row[2] = row[2].rstrip()\n        \n        if i == 0:\n            l.append(row)\n            i = i+1\n            continue\n\n            \n        else:\n            if l[i-1][1] == row[1]:\n                l[i-1][2] =  l[i-1][2] +\",\"+row[2]\n                continue\n\n        i = i+1\n        l.append(row)\n        \ndf = pd.DataFrame(l, columns=[\"PostalCode\", \"Borough\", \"Neighborhood\"])\ndf.head()", 
            "cell_type": "code", 
            "metadata": {}, 
            "outputs": [
                {
                    "output_type": "execute_result", 
                    "data": {
                        "text/html": "<div>\n<style scoped>\n    .dataframe tbody tr th:only-of-type {\n        vertical-align: middle;\n    }\n\n    .dataframe tbody tr th {\n        vertical-align: top;\n    }\n\n    .dataframe thead th {\n        text-align: right;\n    }\n</style>\n<table border=\"1\" class=\"dataframe\">\n  <thead>\n    <tr style=\"text-align: right;\">\n      <th></th>\n      <th>PostalCode</th>\n      <th>Borough</th>\n      <th>Neighborhood</th>\n    </tr>\n  </thead>\n  <tbody>\n    <tr>\n      <th>0</th>\n      <td>M3A</td>\n      <td>North York</td>\n      <td>Parkwoods,Victoria Village</td>\n    </tr>\n    <tr>\n      <th>1</th>\n      <td>M5A</td>\n      <td>Downtown Toronto</td>\n      <td>Harbourfront,Regent Park</td>\n    </tr>\n    <tr>\n      <th>2</th>\n      <td>M6A</td>\n      <td>North York</td>\n      <td>Lawrence Heights,Lawrence Manor</td>\n    </tr>\n    <tr>\n      <th>3</th>\n      <td>M7A</td>\n      <td>Queen's Park</td>\n      <td>Queen's Park</td>\n    </tr>\n    <tr>\n      <th>4</th>\n      <td>M9A</td>\n      <td>Etobicoke</td>\n      <td>Islington Avenue</td>\n    </tr>\n  </tbody>\n</table>\n</div>", 
                        "text/plain": "  PostalCode           Borough                     Neighborhood\n0        M3A        North York       Parkwoods,Victoria Village\n1        M5A  Downtown Toronto         Harbourfront,Regent Park\n2        M6A        North York  Lawrence Heights,Lawrence Manor\n3        M7A      Queen's Park                     Queen's Park\n4        M9A         Etobicoke                 Islington Avenue"
                    }, 
                    "execution_count": 5, 
                    "metadata": {}
                }
            ], 
            "execution_count": 5
        }, 
        {
            "source": "df.shape", 
            "cell_type": "code", 
            "metadata": {}, 
            "outputs": [
                {
                    "output_type": "execute_result", 
                    "data": {
                        "text/plain": "(85, 3)"
                    }, 
                    "execution_count": 6, 
                    "metadata": {}
                }
            ], 
            "execution_count": 6
        }, 
        {
            "source": "", 
            "cell_type": "code", 
            "metadata": {}, 
            "outputs": [], 
            "execution_count": null
        }
    ], 
    "metadata": {
        "kernelspec": {
            "display_name": "Python 3.5", 
            "name": "python3", 
            "language": "python"
        }, 
        "language_info": {
            "mimetype": "text/x-python", 
            "nbconvert_exporter": "python", 
            "version": "3.5.5", 
            "name": "python", 
            "file_extension": ".py", 
            "pygments_lexer": "ipython3", 
            "codemirror_mode": {
                "version": 3, 
                "name": "ipython"
            }
        }
    }, 
    "nbformat": 4
}